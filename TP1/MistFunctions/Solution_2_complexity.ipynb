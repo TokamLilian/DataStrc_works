{
 "cells": [
  {
   "cell_type": "markdown",
   "metadata": {},
   "source": [
    "## $\\text{Question 1} $"
   ]
  },
  {
   "cell_type": "markdown",
   "metadata": {},
   "source": [
    "```java\n",
    "public class MistFunction1{\n",
    "    \n",
    "    public static int mistFunction1(int m, int n) {\n",
    "        if (m == 1 && n == 1) return 1;\n",
    "        if (m == 0 || n == 0) return 0;\n",
    "        return mistFunction1(m-1, n) + mistFunction1(m, n-1);\n",
    "    }\n",
    "}\n",
    "```"
   ]
  },
  {
   "cell_type": "markdown",
   "metadata": {},
   "source": [
    "#### $\\text{Complexity} $"
   ]
  },
  {
   "cell_type": "markdown",
   "metadata": {},
   "source": [
    "Time Complexity : *O($2 ^{n+m} $)* \\\n",
    "Space Complexity : *O($max(m,n)$)* "
   ]
  },
  {
   "cell_type": "markdown",
   "metadata": {},
   "source": [
    "#### $\\text{Explanation} $"
   ]
  },
  {
   "cell_type": "markdown",
   "metadata": {},
   "source": [
    "This method uses recursion to find the number of distinct paths from the  top-left corner of a grid to the bottom-right corner.\\\n",
    " For each step, the method makes a recursive call to move down and another to move right hence a factor of 2."
   ]
  },
  {
   "cell_type": "markdown",
   "metadata": {},
   "source": [
    "---\n",
    "## $\\text{Question 2} $"
   ]
  },
  {
   "cell_type": "markdown",
   "metadata": {},
   "source": [
    "```java\n",
    "public class MistFunction2{\n",
    "    \n",
    "    public static List<List<String>> mistFunction2(String target, List<String> pieces){\n",
    "        List<List<String>>[] table = new ArrayList[target.length() + 1];\n",
    "\n",
    "        for (int i=0 ; i <= target.length(); i++) {\n",
    "            table[i] = new ArrayList<>();\n",
    "        }\n",
    "\n",
    "        table[0].add (new ArrayList<>());\n",
    "\n",
    "        for (int i = 0; i <= target.length(); i++) {\n",
    "            for (String piece: pieces) {\n",
    "\n",
    "                if (i + piece.length() <= target.length() && target.startsWith(piece, i)) {\n",
    "                    List<List<String>> newCombinations = new ArrayList<>();\n",
    "\n",
    "                    for (List<String> subarray : table[i]) {\n",
    "                        List<String> newSubarray = new ArrayList<> (subarray);\n",
    "                        newSubarray.add(piece);\n",
    "                        newCombinations.add(newSubarray);\n",
    "                    }\n",
    "                    table[i + piece.length()] .addAll(newCombinations);\n",
    "                }\n",
    "            }\n",
    "            \n",
    "        }\n",
    "            return table[target.length()];\n",
    "    }\n",
    "}\n",
    "```"
   ]
  },
  {
   "cell_type": "markdown",
   "metadata": {},
   "source": [
    "#### $\\text{Complexity} $"
   ]
  },
  {
   "cell_type": "markdown",
   "metadata": {},
   "source": [
    "Time complexity: *O(n\\*m)* \\\n",
    "Space complexity: *O(n)*"
   ]
  },
  {
   "cell_type": "markdown",
   "metadata": {},
   "source": [
    "#### $\\text{Explanation} $"
   ]
  },
  {
   "cell_type": "markdown",
   "metadata": {},
   "source": [
    "From the ArrayList \"pieces\" containing 'm' objects, this function finds all possible combinations of objects \\\n",
    "that can form the target value of length 'n'.  In the worst cases,\n",
    " - The first loop run $n+1$ times.\n",
    " - The inner loop which iterates on the number of objects in 'pieces', runs $m$ times.\n",
    "\n",
    "The operation comparison of if a string of length 'piece.length()' matches the current piece takes O(piece.length()) time. \n",
    "\n",
    "In the worst case, this comarison is done for each piece in the inner loop hence additional O(m * piece.length()) time complexity \\\n",
    "during the construction of new combinations, lists copied have sizes proportional to the target hence and overal complexity of \\\n",
    "O(n * m)."
   ]
  },
  {
   "cell_type": "markdown",
   "metadata": {},
   "source": [
    "---\n",
    "## $\\text{Question 3} $"
   ]
  },
  {
   "cell_type": "markdown",
   "metadata": {},
   "source": [
    "```java\n",
    "public class MistFunction3{\n",
    "    \n",
    "    public static boolean mistFunction3(int target, int[] options) {\n",
    "        boolean[] table = new boolean[target + 1];\n",
    "        table[0] = true;\n",
    "\n",
    "        for (int i = 0; i<= target; i++){\n",
    "            if (table[i]) {\n",
    "                for (int option:options) {\n",
    "                    if (i+option <= target) {\n",
    "                        table[i + option] = true;\n",
    "                    }\n",
    "                }\n",
    "            }\n",
    "        }\n",
    "        return table[target];\n",
    "    }\n",
    "}\n",
    "```"
   ]
  },
  {
   "cell_type": "markdown",
   "metadata": {},
   "source": [
    "#### $\\text{Complexity} $"
   ]
  },
  {
   "cell_type": "markdown",
   "metadata": {},
   "source": [
    "Time complexity: *O(n\\*m)* \\\n",
    "Space complexity: O(n)"
   ]
  },
  {
   "cell_type": "markdown",
   "metadata": {},
   "source": [
    "#### $\\text{Explanation} $"
   ]
  },
  {
   "cell_type": "markdown",
   "metadata": {},
   "source": [
    "This function returns true if the target of lenght 'n' can be obtained by combinations of elements in the \\\n",
    "\"options\" array of size 'm' and false otherwise. Using dynamic programming, the main loop iterate over \\\n",
    "each index from 0 untill the target's value and each iteration, the inner loop iterates over the \\\n",
    "options array hence  making it a nested loop with time complexity O(n*m)."
   ]
  },
  {
   "cell_type": "markdown",
   "metadata": {},
   "source": [
    "---\n",
    "## $\\text{Question 4} $"
   ]
  },
  {
   "cell_type": "markdown",
   "metadata": {},
   "source": [
    "$\\text{What will be the time complexity using recursion instead of dynamic programming ? } $"
   ]
  }
 ],
 "metadata": {
  "language_info": {
   "name": "python"
  },
  "orig_nbformat": 4
 },
 "nbformat": 4,
 "nbformat_minor": 2
}
