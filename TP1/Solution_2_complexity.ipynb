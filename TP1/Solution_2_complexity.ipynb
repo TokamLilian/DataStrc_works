{
 "cells": [
  {
   "cell_type": "markdown",
   "metadata": {},
   "source": [
    "## $\\text{Question 1} $"
   ]
  },
  {
   "cell_type": "markdown",
   "metadata": {},
   "source": [
    "```java\n",
    "public class MistFunction1{\n",
    "    \n",
    "    public static int mistFunction1(int m, int n) {\n",
    "        if (m == 1 && n == 1) return 1;\n",
    "        if (m == 0 || n == 0) return 0;\n",
    "        return mistFunction1(m-1, n) + mistFunction1(m, n-1);\n",
    "    }\n",
    "}\n",
    "```"
   ]
  },
  {
   "cell_type": "markdown",
   "metadata": {},
   "source": [
    "[Click here to see the file To run](MistFunction1.java)"
   ]
  },
  {
   "cell_type": "markdown",
   "metadata": {},
   "source": [
    "#### $\\text{Complexity} $"
   ]
  },
  {
   "cell_type": "markdown",
   "metadata": {},
   "source": []
  },
  {
   "cell_type": "markdown",
   "metadata": {},
   "source": [
    "#### $\\text{Explanation} $"
   ]
  },
  {
   "cell_type": "markdown",
   "metadata": {},
   "source": []
  },
  {
   "cell_type": "markdown",
   "metadata": {},
   "source": [
    "---\n",
    "## $\\text{Question 2} $"
   ]
  },
  {
   "cell_type": "markdown",
   "metadata": {},
   "source": [
    "```java\n",
    "public class MistFunction2{\n",
    "    \n",
    "    public static List<List<String>> mistFunction2(String target, List<String> pieces){\n",
    "        List<List<String>>[] table = new ArrayList[target.length() + 1];\n",
    "\n",
    "        for (int i=0 ; i <= target.length(); i++) {\n",
    "            table[i] = new ArrayList<>();\n",
    "        }\n",
    "\n",
    "        table[0].add (new ArrayList<>());\n",
    "\n",
    "        for (int i = 0; i <= target.length(); i++) {\n",
    "            for (String piece: pieces) {\n",
    "\n",
    "                if (i + piece.length() <= target.length() && target.startsWith(piece, i)) {\n",
    "                    List<List<String>> newCombinations = new ArrayList<>();\n",
    "\n",
    "                    for (List<String> subarray : table[i]) {\n",
    "                        List<String> newSubarray = new ArrayList<> (subarray);\n",
    "                        newSubarray.add(piece);\n",
    "                        newCombinations.add(newSubarray);\n",
    "                    }\n",
    "                    table[i + piece.length()] .addAll(newCombinations);\n",
    "                }\n",
    "            }\n",
    "            \n",
    "        }\n",
    "            return table[target.length()];\n",
    "    }\n",
    "}\n",
    "```"
   ]
  },
  {
   "cell_type": "markdown",
   "metadata": {},
   "source": [
    "[Click here to see the file To run](MistFunctions.java)"
   ]
  },
  {
   "cell_type": "markdown",
   "metadata": {},
   "source": [
    "#### $\\text{Complexity} $"
   ]
  },
  {
   "cell_type": "markdown",
   "metadata": {},
   "source": []
  },
  {
   "cell_type": "markdown",
   "metadata": {},
   "source": [
    "#### $\\text{Explanation} $"
   ]
  },
  {
   "cell_type": "markdown",
   "metadata": {},
   "source": []
  },
  {
   "cell_type": "markdown",
   "metadata": {},
   "source": [
    "---\n",
    "## $\\text{Question 3} $"
   ]
  },
  {
   "cell_type": "markdown",
   "metadata": {},
   "source": [
    "```java\n",
    "public class MistFunction3{\n",
    "    \n",
    "    public static boolean mistFunction3(int target, int[] options) {\n",
    "        boolean[] table = new boolean[target + 1];\n",
    "        table[0] = true;\n",
    "\n",
    "        for (int i = 0; i<= target; i++){\n",
    "            if (table[i]) {\n",
    "                for (int option:options) {\n",
    "                    if (i+option <= target) {\n",
    "                        table[i + option] = true;\n",
    "                    }\n",
    "                }\n",
    "            }\n",
    "        }\n",
    "        return table[target];\n",
    "    }\n",
    "}\n",
    "```"
   ]
  },
  {
   "cell_type": "markdown",
   "metadata": {},
   "source": [
    "[Click here to see the file To run](MistFunctions.java)"
   ]
  },
  {
   "cell_type": "markdown",
   "metadata": {},
   "source": [
    "#### $\\text{Complexity} $"
   ]
  },
  {
   "cell_type": "markdown",
   "metadata": {},
   "source": []
  },
  {
   "cell_type": "markdown",
   "metadata": {},
   "source": [
    "#### $\\text{Explanation} $"
   ]
  },
  {
   "cell_type": "markdown",
   "metadata": {},
   "source": []
  },
  {
   "cell_type": "markdown",
   "metadata": {},
   "source": [
    "---\n",
    "## $\\text{Question 4} $"
   ]
  }
 ],
 "metadata": {
  "language_info": {
   "name": "python"
  },
  "orig_nbformat": 4
 },
 "nbformat": 4,
 "nbformat_minor": 2
}
