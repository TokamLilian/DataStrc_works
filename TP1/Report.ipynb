{
 "cells": [
  {
   "cell_type": "markdown",
   "metadata": {},
   "source": [
    "## $\\text{Part 2: Complexity Analysis} $"
   ]
  },
  {
   "cell_type": "markdown",
   "metadata": {},
   "source": [
    "### $\\text{Question 1} $"
   ]
  },
  {
   "cell_type": "markdown",
   "metadata": {},
   "source": [
    "#### $\\text{Complexity} $"
   ]
  },
  {
   "cell_type": "markdown",
   "metadata": {},
   "source": [
    "Time Complexity : *O($2 ^{n+m} $)* \\\n",
    "Space Complexity : *O($max(m,n)$)* "
   ]
  },
  {
   "cell_type": "markdown",
   "metadata": {},
   "source": [
    "#### $\\text{Explanation} $"
   ]
  },
  {
   "cell_type": "markdown",
   "metadata": {},
   "source": [
    "This method uses recursion to find the number of distinct paths from the  top-left corner of a grid to the bottom-right corner.\\\n",
    " For each step, the method makes a recursive call to move down and another to move right hence a factor of 2."
   ]
  },
  {
   "cell_type": "markdown",
   "metadata": {},
   "source": [
    "---\n",
    "### $\\text{Question 2} $"
   ]
  },
  {
   "cell_type": "markdown",
   "metadata": {},
   "source": [
    "#### $\\text{Complexity} $"
   ]
  },
  {
   "cell_type": "markdown",
   "metadata": {},
   "source": [
    "Time complexity: *O(n\\*m)* \\\n",
    "Space complexity: *O(n)*"
   ]
  },
  {
   "cell_type": "markdown",
   "metadata": {},
   "source": [
    "#### $\\text{Explanation} $"
   ]
  },
  {
   "cell_type": "markdown",
   "metadata": {},
   "source": [
    "From the ArrayList \"pieces\" containing 'm' objects, this function finds all possible combinations of objects \\\n",
    "that can form the target value of length 'n'.  In the worst cases,\n",
    " - The first loop run $n+1$ times.\n",
    " - The inner loop which iterates on the number of objects in 'pieces', runs $m$ times.\n",
    "\n",
    "The operation comparison of if a string of length 'piece.length()' matches the current piece takes O(piece.length()) time. \n",
    "\n",
    "In the worst case, this comarison is done for each piece in the inner loop hence additional O(m * piece.length()) time complexity \\\n",
    "during the construction of new combinations, lists copied have sizes proportional to the target hence and overal complexity of \\\n",
    "O(n * m)."
   ]
  },
  {
   "cell_type": "markdown",
   "metadata": {},
   "source": [
    "---\n",
    "### $\\text{Question 3} $"
   ]
  },
  {
   "cell_type": "markdown",
   "metadata": {},
   "source": [
    "#### $\\text{Complexity} $"
   ]
  },
  {
   "cell_type": "markdown",
   "metadata": {},
   "source": [
    "Time complexity: *O(n\\*m)* \\\n",
    "Space complexity: O(n)"
   ]
  },
  {
   "cell_type": "markdown",
   "metadata": {},
   "source": [
    "#### $\\text{Explanation} $"
   ]
  },
  {
   "cell_type": "markdown",
   "metadata": {},
   "source": [
    "This function returns true if the target of lenght 'n' can be obtained by combinations of elements in the \\\n",
    "\"options\" array of size 'm' and false otherwise. Using dynamic programming, the main loop iterate over \\\n",
    "each index from 0 untill the target's value and each iteration, the inner loop iterates over the \\\n",
    "options array hence  making it a nested loop with time complexity O(n*m)."
   ]
  },
  {
   "cell_type": "markdown",
   "metadata": {},
   "source": [
    "---\n",
    "### $\\text{Question 4} $"
   ]
  },
  {
   "cell_type": "markdown",
   "metadata": {},
   "source": [
    "$\\text{What will be the time complexity using recursion instead of dynamic programming ? } $"
   ]
  },
  {
   "cell_type": "markdown",
   "metadata": {},
   "source": [
    "- For MistFonction2, the time complexity of the recursive  function is *O($m^{n}$)* \\\n",
    "because for each of the 'n' characters in 'target' it makes n calls for each of the 'm' elements in 'pieces'.\n",
    "\n",
    "- For MistFonction3, the time complexity of the recursive  function is *O($\\text{options}^{n}$)* \\\n",
    "because it makes n calls for each element in the 'options' array."
   ]
  },
  {
   "cell_type": "markdown",
   "metadata": {},
   "source": [
    "## $\\text{Part 3: Stacks} $"
   ]
  },
  {
   "cell_type": "markdown",
   "metadata": {},
   "source": [
    "### $\\text{Problem 1} $"
   ]
  },
  {
   "cell_type": "markdown",
   "metadata": {},
   "source": [
    "Algorithm:\n",
    "\n",
    "- Iterate on the number of days\n",
    "For each day, If 'nam' is not empty, move a section from 'nam' to 'sam'.  Otherwise, try to move a section from 'pam' to 'sam' similarly.\n",
    "\n",
    "- Print a state message for each day.\n",
    "\n",
    "- Check completion\n",
    "After 10 days, if order in 'sam' is restored as originally in 'nam', print Congratulations message, otherwise  print Failure message. With the number of days needed"
   ]
  },
  {
   "cell_type": "markdown",
   "metadata": {},
   "source": [
    "Time Complexity: *O($n$)* where n is tha number of days\n",
    "\n",
    "\n",
    "Space Complexity: *O(1)*"
   ]
  },
  {
   "cell_type": "markdown",
   "metadata": {},
   "source": [
    "---\n",
    "### $\\text{Problem 2} $"
   ]
  },
  {
   "cell_type": "markdown",
   "metadata": {},
   "source": [
    "Time Complexity:\n",
    "- pairDestroyer *O($n^3$)*\n",
    "- destroyer *O($n^2$)*\n",
    "- emptyTemp *O($n$)*\n",
    "\n",
    "Space Complexity: *O(n)*"
   ]
  }
 ],
 "metadata": {
  "language_info": {
   "name": "python"
  },
  "orig_nbformat": 4
 },
 "nbformat": 4,
 "nbformat_minor": 2
}
