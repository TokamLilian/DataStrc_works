{
 "cells": [
  {
   "cell_type": "markdown",
   "metadata": {},
   "source": [
    "<div></div>"
   ]
  },
  {
   "cell_type": "markdown",
   "metadata": {},
   "source": [
    "<div></div>"
   ]
  },
  {
   "cell_type": "markdown",
   "metadata": {},
   "source": [
    "\\begin{align*}\n",
    "\\textbf{DEVOIR 3}\n",
    "\\end{align*}"
   ]
  },
  {
   "cell_type": "markdown",
   "metadata": {},
   "source": [
    "<div></div>"
   ]
  },
  {
   "cell_type": "markdown",
   "metadata": {},
   "source": [
    "<div style=\"text-align:center; font-family:Times New Roman; font-size:22px\">\n",
    "    ANGE LILIAN TCHOMTCHOUA TOKAM 20210129\n",
    "</div>\n",
    "<div style=\"text-align:center; font-family:Times New Roman; font-size:22px\">\n",
    "    NEMADEU NGAMAKO FRANCK MARTIAL 20260750\n",
    "</div>"
   ]
  },
  {
   "cell_type": "markdown",
   "metadata": {},
   "source": [
    "<div></div>"
   ]
  },
  {
   "cell_type": "markdown",
   "metadata": {},
   "source": [
    "<div></div>"
   ]
  },
  {
   "cell_type": "markdown",
   "metadata": {},
   "source": [
    "<div style=\"text-align:center; font-family:Times New Roman; font-size:22px\">\n",
    "    STRUCTURES DE DONNEES - IFT2015\n",
    "</div>\n",
    "<div style=\"text-align:center; font-family:Times New Roman; font-size:18px\">\n",
    "     PROFESSEUR ESMA AIMEUR\n",
    "</div>"
   ]
  },
  {
   "cell_type": "markdown",
   "metadata": {},
   "source": [
    "<div></div>"
   ]
  },
  {
   "cell_type": "markdown",
   "metadata": {},
   "source": [
    "<div></div>"
   ]
  },
  {
   "cell_type": "markdown",
   "metadata": {},
   "source": [
    "<div style=\"text-align:center; font-family:Times New Roman; font-size:16px\">\n",
    "    Université de Montréal\n",
    "</div>\n",
    "<div style=\"text-align:center; font-family:Times New Roman; font-size:16px\">\n",
    "    À remettre le 28 Mars 2024 à 23:59\n",
    "</div>"
   ]
  },
  {
   "cell_type": "markdown",
   "metadata": {},
   "source": [
    "<div></div>"
   ]
  },
  {
   "cell_type": "markdown",
   "metadata": {},
   "source": [
    "---"
   ]
  },
  {
   "cell_type": "markdown",
   "metadata": {},
   "source": [
    "<div></div>"
   ]
  },
  {
   "cell_type": "markdown",
   "metadata": {},
   "source": [
    "### $\\text{Complexity} $"
   ]
  },
  {
   "cell_type": "markdown",
   "metadata": {},
   "source": [
    "#### $\\text{Binary Search Tree} $"
   ]
  },
  {
   "cell_type": "markdown",
   "metadata": {},
   "source": [
    "size() : $O(1)$\n",
    "\n",
    "isEmpty() : $O(1)$\n",
    "\n",
    "insert(int key) : $O(1)$\n",
    "\n",
    "getMax() : $O(n)$\n",
    "\n",
    "search(int key) : $O(n)$\n",
    "\n",
    "remove(int key) : $O(n)$\n",
    "\n",
    "updateBST(Node root) : $O(n^2)$\n",
    "\n",
    "areSameBST(int[] array1, int[] array2) : $O(n)$\n"
   ]
  }
 ],
 "metadata": {
  "language_info": {
   "name": "python"
  },
  "orig_nbformat": 4
 },
 "nbformat": 4,
 "nbformat_minor": 2
}
