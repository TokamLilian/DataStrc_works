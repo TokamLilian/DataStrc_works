{
 "cells": [
  {
   "cell_type": "markdown",
   "metadata": {},
   "source": [
    "<div></div>"
   ]
  },
  {
   "cell_type": "markdown",
   "metadata": {},
   "source": [
    "<div></div>"
   ]
  },
  {
   "cell_type": "markdown",
   "metadata": {},
   "source": [
    "\\begin{align*}\n",
    "\\textbf{DEVOIR 1}\n",
    "\\end{align*}"
   ]
  },
  {
   "cell_type": "markdown",
   "metadata": {},
   "source": [
    "<div></div>"
   ]
  },
  {
   "cell_type": "markdown",
   "metadata": {},
   "source": [
    "<div style=\"text-align:center; font-family:Times New Roman; font-size:22px\">\n",
    "    ANGE LILIAN TCHOMTCHOUA TOKAM 20210129\n",
    "</div>\n",
    "<div style=\"text-align:center; font-family:Times New Roman; font-size:22px\">\n",
    "    FRANK NEMADEU 202xxxx\n",
    "</div>"
   ]
  },
  {
   "cell_type": "markdown",
   "metadata": {},
   "source": [
    "<div></div>"
   ]
  },
  {
   "cell_type": "markdown",
   "metadata": {},
   "source": [
    "<div></div>"
   ]
  },
  {
   "cell_type": "markdown",
   "metadata": {},
   "source": [
    "<div style=\"text-align:center; font-family:Times New Roman; font-size:22px\">\n",
    "    STRUCTURES DE DONNEES - IFT2015\n",
    "</div>\n",
    "<div style=\"text-align:center; font-family:Times New Roman; font-size:18px\">\n",
    "     PROFESSEUR ESMA AIMEUR\n",
    "</div>"
   ]
  },
  {
   "cell_type": "markdown",
   "metadata": {},
   "source": [
    "<div></div>"
   ]
  },
  {
   "cell_type": "markdown",
   "metadata": {},
   "source": [
    "<div></div>"
   ]
  },
  {
   "cell_type": "markdown",
   "metadata": {},
   "source": [
    "<div style=\"text-align:center; font-family:Times New Roman; font-size:16px\">\n",
    "    Université de Montréal\n",
    "</div>\n",
    "<div style=\"text-align:center; font-family:Times New Roman; font-size:16px\">\n",
    "    À remettre le 06 Fevrier 2024 à 23:00\n",
    "</div>"
   ]
  },
  {
   "cell_type": "markdown",
   "metadata": {},
   "source": [
    "<div></div>"
   ]
  },
  {
   "cell_type": "markdown",
   "metadata": {},
   "source": [
    "<div></div>"
   ]
  }
 ],
 "metadata": {
  "language_info": {
   "name": "python"
  },
  "orig_nbformat": 4
 },
 "nbformat": 4,
 "nbformat_minor": 2
}
